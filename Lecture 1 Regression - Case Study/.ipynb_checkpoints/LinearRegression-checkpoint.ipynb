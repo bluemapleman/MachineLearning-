{
 "cells": [
  {
   "cell_type": "markdown",
   "metadata": {},
   "source": [
    "# Linear Model"
   ]
  },
  {
   "cell_type": "markdown",
   "metadata": {},
   "source": [
    "# Linear Regression\n",
    "\n",
    "## Model \n",
    "\n",
    "Model is what we aim to fit/obtain in machine learning algorithm.\n",
    "\n",
    "$y=a_1x_1+a_2x_2+a_3x_3+...+a_nx_n$\n",
    "\n",
    "**fitted model**\n",
    "\n",
    "$\\hat{y}=\\hat{a_1}x_1+\\hat{a_2}x_2+\\hat{a_3}x_3+...+\\hat{a_n}x_n$\n",
    "\n",
    "## Loss Function \n",
    "\n",
    "Loss Function measures the difference between predicted value and true value, **only with loss function can we get a goal to optimize so that we can know how good our fitted model is**.\n",
    "\n",
    "$l(y_i,\\widehat{y_i})=\\frac{1}{2}(y_i-\\widehat{y_i})^2$\n",
    "\n",
    "So **cost function (Measures the sum of difference between predicted values and true values)** is:\n",
    "\n",
    "$L=\\frac{1}{2}\\Sigma_{i=1}^n(y_i-\\widehat{y_i})^2$\n",
    "\n",
    "## Optimization Method \n",
    "\n",
    "Optimization Method is the way how the fitted model tries to keep getting closer to the real model. More Specifically, the formula according to which the parameters of model are updated.\n",
    "\n",
    "**Gradient Decent**: \n",
    "for any parameter, we update it for each sample in follwing way:\n",
    "\n",
    "$a_i:=a_i-\\lambda\\frac{\\partial{l}}{\\partial{a_i}}=a_i-\\lambda(y_i-\\widehat{y_i})x_i$\n",
    "\n",
    "- The principle of gradient decent\n",
    "\n",
    "optimization method essentially decreases the value of cost function by updating parameters of model according to a fixed formula, which means **the formula of updating parameters can ensure that value of cost function is decreasing gradually.**\n",
    "\n",
    "The meaning of formula of gradient decent is: assign the difference between parameter value and multiple of partial derivative of loss function to parameter (gradient) and sample value to the parameter.\n",
    "\n",
    "*Refer to wiki of [Gradient Decent](https://en.wikipedia.org/wiki/Gradient_descent) to help understand math principle behind the formula.*\n",
    "\n",
    "**Attention: Model, Loss Function and Optimization Method are three key elements of a machine learning algorithm, i.e. once these three elements are decided, it refers to a certain mechine learning algorithm. Besides, we won't repeat the definition of these three concepts in later chapters.**"
   ]
  },
  {
   "cell_type": "markdown",
   "metadata": {},
   "source": [
    "# TensorFlow Realization\n",
    "\n",
    "\n",
    "- Tensorflow实现机器学习算法与训练的常规步骤\n",
    "\n",
    "    - 设置各种超参数，例如学习率，迭代次数等；\n",
    "    - 定义变量和模型；\n",
    "    - 初始化变量;\n",
    "    - 正式开始训练."
   ]
  },
  {
   "cell_type": "markdown",
   "metadata": {},
   "source": [
    "# Task1:  单变量线性回归 (Single-feature)"
   ]
  },
  {
   "cell_type": "code",
   "execution_count": 359,
   "metadata": {},
   "outputs": [
    {
     "name": "stdout",
     "output_type": "stream",
     "text": [
      "dataX: [[  0.        ]\n",
      " [  0.34482759]\n",
      " [  0.68965517]\n",
      " [  1.03448276]\n",
      " [  1.37931034]\n",
      " [  1.72413793]\n",
      " [  2.06896552]\n",
      " [  2.4137931 ]\n",
      " [  2.75862069]\n",
      " [  3.10344828]\n",
      " [  3.44827586]\n",
      " [  3.79310345]\n",
      " [  4.13793103]\n",
      " [  4.48275862]\n",
      " [  4.82758621]\n",
      " [  5.17241379]\n",
      " [  5.51724138]\n",
      " [  5.86206897]\n",
      " [  6.20689655]\n",
      " [  6.55172414]\n",
      " [  6.89655172]\n",
      " [  7.24137931]\n",
      " [  7.5862069 ]\n",
      " [  7.93103448]\n",
      " [  8.27586207]\n",
      " [  8.62068966]\n",
      " [  8.96551724]\n",
      " [  9.31034483]\n",
      " [  9.65517241]\n",
      " [ 10.        ]]\n",
      "dataY: [[   8.        ]\n",
      " [  11.44827586]\n",
      " [  14.89655172]\n",
      " [  18.34482759]\n",
      " [  21.79310345]\n",
      " [  25.24137931]\n",
      " [  28.68965517]\n",
      " [  32.13793103]\n",
      " [  35.5862069 ]\n",
      " [  39.03448276]\n",
      " [  42.48275862]\n",
      " [  45.93103448]\n",
      " [  49.37931034]\n",
      " [  52.82758621]\n",
      " [  56.27586207]\n",
      " [  59.72413793]\n",
      " [  63.17241379]\n",
      " [  66.62068966]\n",
      " [  70.06896552]\n",
      " [  73.51724138]\n",
      " [  76.96551724]\n",
      " [  80.4137931 ]\n",
      " [  83.86206897]\n",
      " [  87.31034483]\n",
      " [  90.75862069]\n",
      " [  94.20689655]\n",
      " [  97.65517241]\n",
      " [ 101.10344828]\n",
      " [ 104.55172414]\n",
      " [ 108.        ]]\n"
     ]
    }
   ],
   "source": [
    "import tensorflow as tf\n",
    "import numpy as np\n",
    "import matplotlib.pyplot as plt\n",
    "%matplotlib inline\n",
    "\n",
    "# Hyperparameters\n",
    "LEARNING_RATE=0.001\n",
    "MAX_ITERATIONS=1000\n",
    "DISPLAY_STEPS=50\n",
    "\n",
    "# reset the graph\n",
    "tf.reset_default_graph()\n",
    "\n",
    "np.random.seed(1); # reproducible result\n",
    "\n",
    "# data used to fit linear regression model\n",
    "m=30; # sample quantity\n",
    "# dataX=np.random.rand(m)\n",
    "# dataX=dataX.reshape(-1,1)\n",
    "# dataY=dataX*10+8 # model supposed to be: y=10x+8\n",
    "\n",
    "# below data will cause explosion of parameter values and loss, reasons remain unknown\n",
    "dataX=np.linspace(0,10,m)\n",
    "dataX=dataX.reshape(-1,1)\n",
    "dataY=dataX*10+8\n",
    "\n",
    "print('dataX:',dataX)\n",
    "print('dataY:',dataY)\n"
   ]
  },
  {
   "cell_type": "code",
   "execution_count": 360,
   "metadata": {},
   "outputs": [
    {
     "name": "stdout",
     "output_type": "stream",
     "text": [
      "epoch: 0 ,loss: 2127.40229885 W: 0.379080477775 ,b: 0.0580000027549\n",
      "epoch: 50 ,loss: 67.6027474452 W: 9.12249304934 ,b: 1.44031860814\n",
      "epoch: 100 ,loss: 6.90416020902 W: 10.6119650398 ,b: 1.74375411403\n",
      "epoch: 150 ,loss: 4.99446395327 W: 10.8576435898 ,b: 1.86133264692\n",
      "epoch: 200 ,loss: 4.81668375652 W: 10.8901584871 ,b: 1.94620284829\n",
      "epoch: 250 ,loss: 4.69291958537 W: 10.8862424878 ,b: 2.02463763096\n",
      "epoch: 300 ,loss: 4.57375268121 W: 10.8762004902 ,b: 2.10115288128\n",
      "epoch: 350 ,loss: 4.45765345838 W: 10.8652276872 ,b: 2.17653341471\n",
      "epoch: 400 ,loss: 4.34450250084 W: 10.8542134312 ,b: 2.25092410246\n",
      "epoch: 450 ,loss: 4.2342237495 W: 10.8433087208 ,b: 2.32435994548\n",
      "epoch: 500 ,loss: 4.12674426173 W: 10.8325379594 ,b: 2.3968569742\n",
      "epoch: 550 ,loss: 4.02199298133 W: 10.8219038609 ,b: 2.46842783785\n",
      "epoch: 600 ,loss: 3.91990065676 W: 10.8114054382 ,b: 2.53908447939\n",
      "epoch: 650 ,loss: 3.82039979438 W: 10.8010410884 ,b: 2.60883859582\n",
      "epoch: 700 ,loss: 3.72342461378 W: 10.7908091214 ,b: 2.6777017187\n",
      "epoch: 750 ,loss: 3.62891100425 W: 10.78070785 ,b: 2.74568522958\n",
      "epoch: 800 ,loss: 3.53679648247 W: 10.7707356054 ,b: 2.81280036413\n",
      "epoch: 850 ,loss: 3.44702015116 W: 10.7608907396 ,b: 2.87905821442\n",
      "epoch: 900 ,loss: 3.35952265883 W: 10.7511716255 ,b: 2.94446973085\n",
      "epoch: 950 ,loss: 3.27424616052 W: 10.741576657 ,b: 3.00904572392\n"
     ]
    },
    {
     "data": {
      "image/png": "[encoded data removed]",
      "text/plain": [
       "<matplotlib.figure.Figure at 0x1258f2fd0>"
      ]
     },
     "metadata": {},
     "output_type": "display_data"
    }
   ],
   "source": [
    "# Define TensorFlow Elements\n",
    "X=tf.placeholder(dtype=tf.float64,name='inputX',shape=None)\n",
    "Y=tf.placeholder(dtype=tf.float64,name='LabelY',shape=None)\n",
    "\n",
    "# parameters\n",
    "W=tf.Variable(0,name='weights',dtype=tf.float64) \n",
    "b=tf.Variable(0,name='bias',dtype=tf.float64)\n",
    "\n",
    "# prediction\n",
    "pred_Y=X*W+b\n",
    "\n",
    "# define loss function: (y-pred_y)^2/2 (refer to previous illustration)\n",
    "loss=tf.reduce_mean(tf.square(Y-pred_Y))/2\n",
    "\n",
    "# choose optimizer\n",
    "optimizer=tf.train.GradientDescentOptimizer(learning_rate=LEARNING_RATE).minimize(loss)\n",
    "\n",
    "\n",
    "# train function: Batch GD 批梯度下降\n",
    "def train():\n",
    "    loss_val,_=sess.run([loss,optimizer],feed_dict={X:dataX,Y:dataY})\n",
    "    return loss_val\n",
    "\n",
    "# Training Process\n",
    "with tf.Session() as sess:\n",
    "    # necessary! Initilize all variables!\n",
    "    sess.run(tf.global_variables_initializer())\n",
    "    for epo in range(MAX_ITERATIONS):\n",
    "        loss_val=train()\n",
    "#         for (x,y) in zip(dataX,dataY):\n",
    "#             pred_Y_val,loss_val,_=sess.run([pred_Y,loss,optimizer],feed_dict={X:x,Y:y})\n",
    "        if epo % DISPLAY_STEPS==0:\n",
    "            print('epoch:',epo,',loss:',loss_val,'W:',W.eval(),',b:',b.eval())\n",
    "    \n",
    "    # Graphic display\n",
    "    plt.plot(dataX, dataY, 'ro', label='Original data')\n",
    "    plt.plot(dataX, sess.run(W) * dataX + sess.run(b), label='Fitted line')\n",
    "    plt.legend()\n",
    "    plt.show()\n",
    "\n",
    "    \n"
   ]
  },
  {
   "cell_type": "markdown",
   "metadata": {},
   "source": [
    "# 经验总结\n",
    "\n",
    "- 学习率（Learning Rate）的设置不能太高，也不能太低，太低容易使得参数根本来不及靠近真实值；而太高容易导致在真实值附近振荡，也不能收敛到真实值(可能出现损失和参数值都不断趋近于无穷大，最后变成nan的现象），这时需要尝试性地调低学习率。\n",
    "- 只要损失函数的值在保持下降，就可以基本说明训练过程是顺利的；若损失函数的值忽大忽小，则可能是学习率设置偏高，导致参数在真实值附近震荡。"
   ]
  },
  {
   "cell_type": "markdown",
   "metadata": {},
   "source": [
    "# 梯度下降效率改进\n",
    "\n",
    "之前，我们是用的批梯度下降，即每次用全部的样本来进行梯度计算与更新：\n",
    "\n",
    "```{python}\n",
    "# train function: Batch GD 批梯度下降\n",
    "def train():\n",
    "    index=np.ran\n",
    "    loss_val,_=sess.run([loss,optimizer],feed_dict={X:dataX,Y:dataY})\n",
    "    return loss_val\n",
    "```\n",
    "\n",
    "而如果我们现在用随机梯度下降（SGD），每次迭代随机选择一个样本进行计算与更新，则训练速度会提高，但不一定保证像批梯度下降那样的收敛。\n",
    "\n",
    "```{python}\n",
    "# train function: Stochastic GD 随机梯度下降\n",
    "def train():\n",
    "    index=np.random.randint(0,m)\n",
    "    loss_val,_=sess.run([loss,optimizer],feed_dict={X:dataX[index],Y:dataY[index]})\n",
    "    return loss_val\n",
    "```"
   ]
  },
  {
   "cell_type": "code",
   "execution_count": 240,
   "metadata": {},
   "outputs": [
    {
     "name": "stdout",
     "output_type": "stream",
     "text": [
      "epoch: 0 ,loss: 2.18718229891 W: 0.0131953601203 ,b: 0.0381853581371\n",
      "epoch: 50 ,loss: 3.34020372346 W: 1.04056873966 ,b: 1.94341985407\n",
      "epoch: 100 ,loss: 2.29044955738 W: 1.96789365559 ,b: 3.53300083308\n",
      "epoch: 150 ,loss: 1.60620788686 W: 2.58369615199 ,b: 4.74047642434\n",
      "epoch: 200 ,loss: 0.42390124299 W: 3.2565822855 ,b: 5.78866716473\n",
      "epoch: 250 ,loss: 0.0425699790275 W: 3.71250383309 ,b: 6.57934459161\n",
      "epoch: 300 ,loss: 0.190436291189 W: 3.97869240323 ,b: 7.14398188749\n",
      "epoch: 350 ,loss: 0.0916271529236 W: 4.28052237314 ,b: 7.64047344481\n",
      "epoch: 400 ,loss: 0.394244659805 W: 4.53829357871 ,b: 8.05165813833\n",
      "epoch: 450 ,loss: 0.301114400279 W: 4.80093648178 ,b: 8.42611111454\n",
      "epoch: 500 ,loss: 0.261253961853 W: 4.91905674716 ,b: 8.61000850905\n",
      "epoch: 550 ,loss: 0.209084196527 W: 5.10387581022 ,b: 8.85946105243\n",
      "epoch: 600 ,loss: 0.00539373050487 W: 5.2048502728 ,b: 8.97476919877\n",
      "epoch: 650 ,loss: 0.158388269695 W: 5.2957874352 ,b: 9.06642716342\n",
      "epoch: 700 ,loss: 0.0010478483433 W: 5.40979916188 ,b: 9.18885712853\n",
      "epoch: 750 ,loss: 0.114910109882 W: 5.52295245397 ,b: 9.31335259078\n",
      "epoch: 800 ,loss: 0.0697236388633 W: 5.65563469363 ,b: 9.44457560542\n",
      "epoch: 850 ,loss: 0.00108067119899 W: 5.76054761413 ,b: 9.52351559863\n",
      "epoch: 900 ,loss: 0.101233455942 W: 5.85023947877 ,b: 9.56942066537\n",
      "epoch: 950 ,loss: 0.0318135681828 W: 5.90137251801 ,b: 9.57773826458\n"
     ]
    },
    {
     "data": {
      "image/png": "[encoded data removed]",
      "text/plain": [
       "<matplotlib.figure.Figure at 0x125067080>"
      ]
     },
     "metadata": {},
     "output_type": "display_data"
    }
   ],
   "source": [
    "# train function:  Stochastic GD 随机梯度下降\n",
    "def train():\n",
    "    index=np.random.randint(0,m)\n",
    "    loss_val,_=sess.run([loss,optimizer],feed_dict={X:dataX[index],Y:dataY[index]})\n",
    "    return loss_val\n",
    "\n",
    "# Training Process\n",
    "with tf.Session() as sess:\n",
    "    # necessary! Initilize all variables!\n",
    "    sess.run(tf.global_variables_initializer())\n",
    "    for epo in range(MAX_ITERATIONS):\n",
    "        loss_val=train()\n",
    "#         for (x,y) in zip(dataX,dataY):\n",
    "#             pred_Y_val,loss_val,_=sess.run([pred_Y,loss,optimizer],feed_dict={X:x,Y:y})\n",
    "        if epo % DISPLAY_STEPS==0:\n",
    "            print('epoch:',epo,',loss:',loss_val,'W:',W.eval(),',b:',b.eval())\n",
    "    \n",
    "    # Graphic display\n",
    "    plt.plot(dataX, dataY, 'ro', label='Original data')\n",
    "    plt.plot(dataX, sess.run(W) * dataX + sess.run(b), label='Fitted line')\n",
    "    plt.legend()\n",
    "    plt.show()\n",
    "\n",
    "    \n"
   ]
  },
  {
   "cell_type": "markdown",
   "metadata": {},
   "source": [
    "## Mini-batch GD 小批梯度下降\n",
    "\n",
    "如上图，由于随机梯度下降不那么能保证参数收敛到真实值附近，于是产生了批梯度下降与随机梯度下降的一个折衷方案：**小批梯度下降**。\n",
    "\n",
    "我们每次迭代时，随机取一定固定数目的样本(mini_batch_num)来计算平均损失，以用来更新，这样就兼顾了效率和更新方向。\n",
    "\n",
    "```{python}\n",
    "mini_batch_num=m//5\n",
    "def train():\n",
    "    index=np.random.choice(range(m),mini_batch_num,replace=False) # 'replace' ensures no duplicate\n",
    "    batchX=[dataX[i] for i in index]\n",
    "    batchY=[dataY[i] for i in index]\n",
    "    loss_val,_=sess.run([loss,optimizer],feed_dict={X:dataX,Y:dataY})\n",
    "    return loss_val\n",
    "```"
   ]
  },
  {
   "cell_type": "code",
   "execution_count": 258,
   "metadata": {},
   "outputs": [
    {
     "name": "stdout",
     "output_type": "stream",
     "text": [
      "epoch: 0 ,loss: 16.8209217966 W: 0.135128308189 ,b: 0.251612665945\n",
      "epoch: 50 ,loss: 1.2007637413 W: 3.90084546968 ,b: 7.25895279465\n",
      "epoch: 100 ,loss: 0.193171279768 W: 5.14869147922 ,b: 9.18484376793\n",
      "epoch: 150 ,loss: 0.134216787249 W: 5.74606315517 ,b: 9.68381039625\n",
      "epoch: 200 ,loss: 0.161935436745 W: 6.11541632521 ,b: 9.74517104034\n",
      "epoch: 250 ,loss: 0.116015312063 W: 6.4059089197 ,b: 9.6506767653\n",
      "epoch: 300 ,loss: 0.140896170911 W: 6.7148826816 ,b: 9.62919340211\n",
      "epoch: 350 ,loss: 0.0998803348429 W: 6.94002377425 ,b: 9.49017655042\n",
      "epoch: 400 ,loss: 0.0883039669927 W: 7.1547799717 ,b: 9.35384372624\n",
      "epoch: 450 ,loss: 0.0308024485947 W: 7.36196448578 ,b: 9.26619836771\n",
      "epoch: 500 ,loss: 0.0651126848707 W: 7.55388465029 ,b: 9.16480219676\n",
      "epoch: 550 ,loss: 0.0315217141477 W: 7.74632959256 ,b: 9.11555177922\n",
      "epoch: 600 ,loss: 0.0512349028886 W: 7.89381750156 ,b: 8.99161434351\n",
      "epoch: 650 ,loss: 0.0199717891551 W: 8.04492016575 ,b: 8.93255592178\n",
      "epoch: 700 ,loss: 0.0222345226038 W: 8.18850308183 ,b: 8.88238081011\n",
      "epoch: 750 ,loss: 0.0132633309719 W: 8.30347966465 ,b: 8.7983616969\n",
      "epoch: 800 ,loss: 0.0296464764288 W: 8.41636177367 ,b: 8.72313424025\n",
      "epoch: 850 ,loss: 0.0130883745763 W: 8.53925558428 ,b: 8.68141837811\n",
      "epoch: 900 ,loss: 0.0257768151645 W: 8.63083798157 ,b: 8.60635674474\n",
      "epoch: 950 ,loss: 0.0107414786676 W: 8.74738846166 ,b: 8.60224054948\n"
     ]
    },
    {
     "data": {
      "image/png": "[encoded data removed]",
      "text/plain": [
       "<matplotlib.figure.Figure at 0x125336cf8>"
      ]
     },
     "metadata": {},
     "output_type": "display_data"
    }
   ],
   "source": [
    "# train function: Mini-batch GD 小批梯度下降\n",
    "\n",
    "mini_batch_num=m//5\n",
    "def train2():\n",
    "    index=np.random.choice(range(m),mini_batch_num,replace=False) # 'replace' ensures no duplicate\n",
    "    batchX=[dataX[i] for i in index]\n",
    "    batchY=[dataY[i] for i in index]\n",
    "    loss_val,_=sess.run([loss,optimizer],feed_dict={X:batchX,Y:batchY})\n",
    "    return loss_val\n",
    "\n",
    "# Training Process\n",
    "with tf.Session() as sess:\n",
    "    # necessary! Initilize all variables!\n",
    "    sess.run(tf.global_variables_initializer())\n",
    "    for epo in range(MAX_ITERATIONS):\n",
    "        loss_val=train2()\n",
    "        if epo % DISPLAY_STEPS==0:\n",
    "            print('epoch:',epo,',loss:',loss_val,'W:',W.eval(),',b:',b.eval())\n",
    "    \n",
    "    # Graphic display\n",
    "    plt.plot(dataX, dataY, 'ro', label='Original data')\n",
    "    plt.plot(dataX, sess.run(W) * dataX + sess.run(b), label='Fitted line')\n",
    "    plt.legend()\n",
    "    plt.show()\n",
    "\n",
    "    \n"
   ]
  },
  {
   "cell_type": "markdown",
   "metadata": {},
   "source": [
    "# 进阶 Task2：多变量线性回归"
   ]
  },
  {
   "cell_type": "code",
   "execution_count": 363,
   "metadata": {},
   "outputs": [
    {
     "name": "stdout",
     "output_type": "stream",
     "text": [
      "dataX: [[  4.17022005e-01   7.20324493e-01]\n",
      " [  1.14374817e-04   3.02332573e-01]\n",
      " [  1.46755891e-01   9.23385948e-02]\n",
      " [  1.86260211e-01   3.45560727e-01]\n",
      " [  3.96767474e-01   5.38816734e-01]\n",
      " [  4.19194514e-01   6.85219500e-01]\n",
      " [  2.04452250e-01   8.78117436e-01]\n",
      " [  2.73875932e-02   6.70467510e-01]\n",
      " [  4.17304802e-01   5.58689828e-01]\n",
      " [  1.40386939e-01   1.98101489e-01]\n",
      " [  8.00744569e-01   9.68261576e-01]\n",
      " [  3.13424178e-01   6.92322616e-01]\n",
      " [  8.76389152e-01   8.94606664e-01]\n",
      " [  8.50442114e-02   3.90547832e-02]\n",
      " [  1.69830420e-01   8.78142503e-01]\n",
      " [  9.83468338e-02   4.21107625e-01]\n",
      " [  9.57889530e-01   5.33165285e-01]\n",
      " [  6.91877114e-01   3.15515631e-01]\n",
      " [  6.86500928e-01   8.34625672e-01]\n",
      " [  1.82882773e-02   7.50144315e-01]\n",
      " [  9.88861089e-01   7.48165654e-01]\n",
      " [  2.80443992e-01   7.89279328e-01]\n",
      " [  1.03226007e-01   4.47893526e-01]\n",
      " [  9.08595503e-01   2.93614148e-01]\n",
      " [  2.87775339e-01   1.30028572e-01]\n",
      " [  1.93669579e-02   6.78835533e-01]\n",
      " [  2.11628116e-01   2.65546659e-01]\n",
      " [  4.91573159e-01   5.33625451e-02]\n",
      " [  5.74117605e-01   1.46728575e-01]\n",
      " [  5.89305537e-01   6.99758360e-01]]\n",
      "dataY: [[ 15.77184251]\n",
      " [  9.51280661]\n",
      " [  9.92925188]\n",
      " [ 11.59040575]\n",
      " [ 14.66175841]\n",
      " [ 15.61804265]\n",
      " [ 14.43510968]\n",
      " [ 11.62621348]\n",
      " [ 14.96649717]\n",
      " [ 10.39437683]\n",
      " [ 20.84875357]\n",
      " [ 14.59585486]\n",
      " [ 21.23692484]\n",
      " [  9.04571603]\n",
      " [ 14.08901671]\n",
      " [ 11.08900646]\n",
      " [ 20.24472173]\n",
      " [ 16.49634929]\n",
      " [ 19.03813764]\n",
      " [ 11.93360435]\n",
      " [ 21.62943916]\n",
      " [ 14.75083656]\n",
      " [ 11.2717277 ]\n",
      " [ 18.55402577]\n",
      " [ 11.52789625]\n",
      " [ 11.58784724]\n",
      " [ 11.44401446]\n",
      " [ 13.18254432]\n",
      " [ 14.47481893]\n",
      " [ 17.39184717]]\n"
     ]
    }
   ],
   "source": [
    "# multiple-features variable version 多变量线性回归\n",
    "\n",
    "\n",
    "import tensorflow as tf\n",
    "import numpy as np\n",
    "import matplotlib.pyplot as plt\n",
    "%matplotlib inline\n",
    "\n",
    "# Hyperparameters\n",
    "LEARNING_RATE=0.1\n",
    "MAX_ITERATIONS=1000\n",
    "DISPLAY_STEPS=50\n",
    "\n",
    "# reset the graph\n",
    "tf.reset_default_graph()\n",
    "\n",
    "np.random.seed(1); # reproducible result\n",
    "\n",
    "# data used to fit linear regression model\n",
    "m=30; # sample quantity\n",
    "dataX=np.random.rand(m,2)\n",
    "\n",
    "dataY=[x1*10+x2*5+8 for x1,x2 in dataX] # model supposed to be: y=10*x1+5*x2+8\n",
    "dataY=np.array(dataY)\n",
    "dataY=dataY.reshape(-1,1)\n",
    "print('dataX:',dataX)\n",
    "print('dataY:',dataY)\n"
   ]
  },
  {
   "cell_type": "code",
   "execution_count": 364,
   "metadata": {},
   "outputs": [
    {
     "name": "stdout",
     "output_type": "stream",
     "text": [
      "epoch: 0 ,loss: 127.98 W: [[-2.04586124]\n",
      " [ 1.04616368]] ,b: 1.53943\n",
      "epoch: 50 ,loss: 1.37798 W: [[ 4.45603609]\n",
      " [ 5.89381266]] ,b: 9.81147\n",
      "epoch: 100 ,loss: 0.629118 W: [[ 6.24942207]\n",
      " [ 5.68722486]] ,b: 9.18347\n",
      "epoch: 150 ,loss: 0.287751 W: [[ 7.46051359]\n",
      " [ 5.52514553]] ,b: 8.76817\n",
      "epoch: 200 ,loss: 0.131899 W: [[ 8.279459  ]\n",
      " [ 5.39996624]] ,b: 8.49597\n",
      "epoch: 250 ,loss: 0.0606162 W: [[ 8.83351421]\n",
      " [ 5.30376291]] ,b: 8.3182\n",
      "epoch: 300 ,loss: 0.027942 W: [[ 9.20856571]\n",
      " [ 5.23013163]] ,b: 8.20257\n",
      "epoch: 350 ,loss: 0.0129265 W: [[ 9.46260071]\n",
      " [ 5.17397356]] ,b: 8.12774\n",
      "epoch: 400 ,loss: 0.0060052 W: [[ 9.63477516]\n",
      " [ 5.13127422]] ,b: 8.07959\n",
      "epoch: 450 ,loss: 0.00280338 W: [[ 9.75155354]\n",
      " [ 5.09889174]] ,b: 8.04883\n",
      "epoch: 500 ,loss: 0.00131596 W: [[ 9.83082104]\n",
      " [ 5.07438898]] ,b: 8.02934\n",
      "epoch: 550 ,loss: 0.000621643 W: [[ 9.88467121]\n",
      " [ 5.05588675]] ,b: 8.01713\n",
      "epoch: 600 ,loss: 0.000295735 W: [[ 9.92128849]\n",
      " [ 5.0419383 ]] ,b: 8.00959\n",
      "epoch: 650 ,loss: 0.000141782 W: [[ 9.94621277]\n",
      " [ 5.0314393 ]] ,b: 8.00501\n",
      "epoch: 700 ,loss: 6.85441e-05 W: [[ 9.96319675]\n",
      " [ 5.02354813]] ,b: 8.0023\n",
      "epoch: 750 ,loss: 3.34409e-05 W: [[ 9.97478008]\n",
      " [ 5.01762152]] ,b: 8.00075\n",
      "epoch: 800 ,loss: 1.64715e-05 W: [[ 9.98269081]\n",
      " [ 5.01317787]] ,b: 7.99992\n",
      "epoch: 850 ,loss: 8.19092e-06 W: [[ 9.98810291]\n",
      " [ 5.00984859]] ,b: 7.99951\n",
      "epoch: 900 ,loss: 4.11437e-06 W: [[ 9.99180698]\n",
      " [ 5.00735617]] ,b: 7.99934\n",
      "epoch: 950 ,loss: 2.08765e-06 W: [[ 9.99434662]\n",
      " [ 5.00549126]] ,b: 7.99932\n"
     ]
    }
   ],
   "source": [
    "X=tf.placeholder(dtype=tf.float32,name='inputX',shape=[m,dataX.shape[1]]) # m*n matrix\n",
    "Y=tf.placeholder(dtype=tf.float32,name='LabelY',shape=None)\n",
    "\n",
    "# parameters\n",
    "W=tf.Variable(tf.random_normal([2,1]),name='weights',dtype=tf.float32)  # n*1 vector\n",
    "b=tf.Variable(0,name='bias',dtype=tf.float32)\n",
    "\n",
    "# prediction\n",
    "pred_Y=tf.matmul(X,W)+b\n",
    "\n",
    "# define loss function: (y-pred_y)^2/2 (refer to previous illustration)\n",
    "loss=tf.reduce_mean(tf.square(Y-pred_Y))/(2)\n",
    "\n",
    "# choose optimizer\n",
    "optimizer=tf.train.GradientDescentOptimizer(learning_rate=LEARNING_RATE).minimize(loss)\n",
    "\n",
    "\n",
    "# train function: Batch GD 批梯度下降\n",
    "def train():\n",
    "    loss_val,_=sess.run([loss,optimizer],feed_dict={X:dataX,Y:dataY})\n",
    "    return loss_val\n",
    "\n",
    "# Training Process\n",
    "with tf.Session() as sess:\n",
    "    # necessary! Initilize all variables!\n",
    "    sess.run(tf.global_variables_initializer())\n",
    "    for epo in range(MAX_ITERATIONS):\n",
    "        loss_val=train()\n",
    "        if epo % DISPLAY_STEPS==0:\n",
    "            print('epoch:',epo,',loss:',loss_val,'W:',W.eval(),',b:',b.eval())\n",
    "#             print(sess.run(pred_Y,feed_dict={X:dataX}))"
   ]
  },
  {
   "cell_type": "markdown",
   "metadata": {},
   "source": [
    "# Sklearn的超简单Linear Regression实现"
   ]
  },
  {
   "cell_type": "code",
   "execution_count": 365,
   "metadata": {},
   "outputs": [
    {
     "name": "stdout",
     "output_type": "stream",
     "text": [
      "[[ 3.]] [ 4.]\n"
     ]
    }
   ],
   "source": [
    "# API Document: https://scikit-learn.org/stable/auto_examples/linear_model/plot_logistic.html#sphx-glr-auto-examples-linear-model-plot-logistic-py\n",
    "\n",
    "from sklearn import linear_model\n",
    "\n",
    "a=np.random.rand(100,1)\n",
    "a=a.reshape(-1,1) # required\n",
    "b=a*3+4\n",
    "\n",
    "regressor=linear_model.LinearRegression() # new linear regression model\n",
    "regressor.fit(a,b)\n",
    "\n",
    "print(regressor.coef_,regressor.intercept_)"
   ]
  },
  {
   "cell_type": "markdown",
   "metadata": {},
   "source": [
    "# Keras简单实现"
   ]
  },
  {
   "cell_type": "code",
   "execution_count": 381,
   "metadata": {},
   "outputs": [
    {
     "name": "stdout",
     "output_type": "stream",
     "text": [
      "_________________________________________________________________\n",
      "Layer (type)                 Output Shape              Param #   \n",
      "=================================================================\n",
      "dense_25 (Dense)             (None, 1)                 2         \n",
      "=================================================================\n",
      "Total params: 2\n",
      "Trainable params: 2\n",
      "Non-trainable params: 0\n",
      "_________________________________________________________________\n",
      "model: [array([[ 2.99394321]], dtype=float32), array([ 4.00321865], dtype=float32)]\n"
     ]
    }
   ],
   "source": [
    "# API Document: https://keras.io/getting-started/sequential-model-guide/\n",
    "\n",
    "from tensorflow import keras\n",
    "\n",
    "a=np.random.rand(100,1)\n",
    "a=a.reshape(-1,1) # required\n",
    "b=a*3+4\n",
    "\n",
    "\n",
    "# Neural network with no hidden layer can be regarded exactly as linear regression\n",
    "model = keras.Sequential([\n",
    "keras.layers.Dense(1,input_shape=(a.shape[1],))\n",
    "])\n",
    "\n",
    "optimizer = tf.train.GradientDescentOptimizer(0.1)\n",
    "\n",
    "model.compile(loss='mse',\n",
    "            optimizer=optimizer,\n",
    "            metrics=['mae'])\n",
    "\n",
    "model.summary()\n",
    "\n",
    "EPOCHS = 100\n",
    "\n",
    "# Store training stats\n",
    "history = model.fit(a, b, epochs=EPOCHS,verbose=0)\n",
    "\n",
    "print('model:',model.get_weights())\n",
    "\n"
   ]
  },
  {
   "cell_type": "markdown",
   "metadata": {},
   "source": [
    "# 如果觉得有所收获，麻烦帮忙给[本项目](https://github.com/bluemapleman/MachineLearningCourseNote)点个star吧！非常感谢您的支持！"
   ]
  },
  {
   "cell_type": "code",
   "execution_count": null,
   "metadata": {
    "collapsed": true
   },
   "outputs": [],
   "source": []
  }
 ],
 "metadata": {
  "kernelspec": {
   "display_name": "Python 3",
   "language": "python",
   "name": "python3"
  },
  "language_info": {
   "codemirror_mode": {
    "name": "ipython",
    "version": 3
   },
   "file_extension": ".py",
   "mimetype": "text/x-python",
   "name": "python",
   "nbconvert_exporter": "python",
   "pygments_lexer": "ipython3",
   "version": "3.6.1"
  }
 },
 "nbformat": 4,
 "nbformat_minor": 2
}
